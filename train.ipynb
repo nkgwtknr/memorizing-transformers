{
 "cells": [
  {
   "cell_type": "code",
   "execution_count": 1,
   "metadata": {},
   "outputs": [],
   "source": [
    "# !pip install transformers\n",
    "# !pip install faiss-gpu\n",
    "# !pip install einops"
   ]
  },
  {
   "cell_type": "code",
   "execution_count": 2,
   "metadata": {},
   "outputs": [],
   "source": [
    "from IPython import embed\n",
    "\n",
    "from memorizing_transformers import MemorizingModel, MemorizingLMHeadModel\n",
    "import random\n",
    "import tqdm\n",
    "import gzip\n",
    "import numpy as np\n",
    "import torch\n",
    "import torch.optim as optim\n",
    "from torch.nn import functional as F\n",
    "from torch.utils.data import DataLoader, Dataset\n",
    "\n",
    "from transformers import GPT2Tokenizer, GPT2Model\n"
   ]
  },
  {
   "cell_type": "code",
   "execution_count": 3,
   "metadata": {},
   "outputs": [],
   "source": [
    "# constants\n",
    "DEVICE = torch.device('cuda:0' if torch.cuda.is_available() else 'cpu')\n",
    "NUM_BATCHES = int(1e5)\n",
    "BATCH_SIZE = 8\n",
    "SEQ_LEN = 512\n",
    "SEGMENTS = 5\n",
    "\n",
    "LEARNING_RATE = 0.002\n",
    "MAX_GRAD_CLIP_NORM = 0.5\n",
    "\n",
    "VALIDATE_EVERY  = 100\n",
    "GENERATE_EVERY  = 500\n",
    "GENERATE_LENGTH = 512\n",
    "\n",
    "# helpers\n",
    "\n",
    "def cycle(loader):\n",
    "    while True:\n",
    "        for data in loader:\n",
    "            yield data\n",
    "\n",
    "def decode_token(token):\n",
    "    return str(chr(max(32, token)))\n",
    "\n",
    "def decode_tokens(tokens):\n",
    "    return ''.join(list(map(decode_token, tokens)))\n"
   ]
  },
  {
   "cell_type": "code",
   "execution_count": 4,
   "metadata": {},
   "outputs": [],
   "source": [
    "import pickle\n",
    "\n",
    "tokenizer = GPT2Tokenizer.from_pretrained('gpt2')\n",
    "\n",
    "# with gzip.open('./data/enwik8.gz',\"rt\",encoding=\"utf-8\") as file:\n",
    "#     text = file.read()\n",
    "#     X = tokenizer(text).input_ids\n",
    "# with open('./data/enwik8_token.pickle', 'wb') as file:\n",
    "#     pickle.dump(X, file)\n",
    "\n",
    "with open('./data/enwik8_token.pickle', 'rb') as file:\n",
    "    X = pickle.load(file)\n",
    "\n",
    "tr_num = len(X) // 2\n",
    "trX, vaX = np.split(X, [tr_num])\n",
    "data_train, data_val = torch.from_numpy(trX), torch.from_numpy(vaX)"
   ]
  },
  {
   "cell_type": "code",
   "execution_count": 5,
   "metadata": {},
   "outputs": [
    {
     "name": "stderr",
     "output_type": "stream",
     "text": [
      "Some weights of MemorizingLMHeadModel were not initialized from the model checkpoint at gpt2 and are newly initialized: ['h.9.attn.knn_attention_ratio', 'h.3.attn.knn_attention_ratio', 'h.2.attn.knn_attention_ratio', 'h.0.attn.knn_attention_ratio', 'h.10.attn.knn_attention_ratio', 'h.6.attn.knn_attention_ratio', 'h.5.attn.knn_attention_ratio', 'h.11.attn.knn_attention_ratio', 'h.8.attn.knn_attention_ratio', 'h.1.attn.knn_attention_ratio', 'h.7.attn.knn_attention_ratio', 'h.4.attn.knn_attention_ratio']\n",
      "You should probably TRAIN this model on a down-stream task to be able to use it for predictions and inference.\n"
     ]
    }
   ],
   "source": [
    "# instantiate GPT-like decoder model\n",
    "# model = MemorizingTransformer(\n",
    "#     num_tokens = 256, # int8 tokens, 32k (x128 = 2^7d) in the paper\n",
    "#     dim = 512, # dim of token in embedding space, 1024 (x2) in the paper\n",
    "#     depth = 8, # 12 \n",
    "#     memorizing_layers = 4, # 9 in the paper\n",
    "#     max_knn_memories = 512 * 15, \n",
    "#     num_retrieved_memories = 32, \n",
    "#     xl_memory_layers = (7, 8),\n",
    "#     xl_max_memories = 512,\n",
    "# )\n",
    "\n",
    "model = MemorizingLMHeadModel.from_pretrained('gpt2').to(DEVICE)\n",
    "\n",
    "# prepare enwik8 data\n",
    "\n",
    "class TextSamplerDataset(Dataset):\n",
    "    def __init__(self, data, seq_len):\n",
    "        super().__init__()\n",
    "        self.data = data\n",
    "        self.seq_len = seq_len\n",
    "\n",
    "    def __getitem__(self, index):\n",
    "        rand_start = torch.randint(0, self.data.size(0) - self.seq_len, (1,))\n",
    "        full_seq = self.data[rand_start: rand_start + self.seq_len].long()\n",
    "        return full_seq.to(DEVICE)\n",
    "\n",
    "    def __len__(self):\n",
    "        return self.data.size(0) // self.seq_len\n",
    "\n",
    "# dataset and dataloader\n",
    "\n",
    "train_dataset = TextSamplerDataset(data_train, SEQ_LEN * SEGMENTS)\n",
    "train_loader  = cycle(DataLoader(train_dataset, batch_size = BATCH_SIZE, drop_last = True))\n",
    "valid_dataset = TextSamplerDataset(data_val, SEQ_LEN * SEGMENTS)\n",
    "valid_loader = cycle(DataLoader(valid_dataset, batch_size = BATCH_SIZE, drop_last = True))\n",
    "\n"
   ]
  },
  {
   "cell_type": "code",
   "execution_count": 6,
   "metadata": {},
   "outputs": [
    {
     "name": "stdout",
     "output_type": "stream",
     "text": [
      "124.0M parameters\n"
     ]
    }
   ],
   "source": [
    "next(train_loader)\n",
    "next(valid_loader)\n",
    "print(f\"{model.num_parameters()//1e6}M parameters\")"
   ]
  },
  {
   "cell_type": "code",
   "execution_count": 7,
   "metadata": {},
   "outputs": [],
   "source": [
    "optim = torch.optim.Adam([param for (name,param) in model.named_parameters() if name == \"transformer.h.5.attn.knn_attention_ratio\"], lr = LEARNING_RATE)\n"
   ]
  },
  {
   "cell_type": "code",
   "execution_count": 8,
   "metadata": {},
   "outputs": [
    {
     "data": {
      "text/plain": [
       "GPT2Config {\n",
       "  \"_name_or_path\": \"gpt2\",\n",
       "  \"activation_function\": \"gelu_new\",\n",
       "  \"architectures\": [\n",
       "    \"GPT2LMHeadModel\"\n",
       "  ],\n",
       "  \"attn_pdrop\": 0.1,\n",
       "  \"bos_token_id\": 50256,\n",
       "  \"embd_pdrop\": 0.1,\n",
       "  \"eos_token_id\": 50256,\n",
       "  \"initializer_range\": 0.02,\n",
       "  \"layer_norm_epsilon\": 1e-05,\n",
       "  \"model_type\": \"gpt2\",\n",
       "  \"n_ctx\": 1024,\n",
       "  \"n_embd\": 768,\n",
       "  \"n_head\": 12,\n",
       "  \"n_inner\": null,\n",
       "  \"n_layer\": 12,\n",
       "  \"n_positions\": 1024,\n",
       "  \"reorder_and_upcast_attn\": false,\n",
       "  \"resid_pdrop\": 0.1,\n",
       "  \"scale_attn_by_inverse_layer_idx\": false,\n",
       "  \"scale_attn_weights\": true,\n",
       "  \"summary_activation\": null,\n",
       "  \"summary_first_dropout\": 0.1,\n",
       "  \"summary_proj_to_labels\": true,\n",
       "  \"summary_type\": \"cls_index\",\n",
       "  \"summary_use_proj\": true,\n",
       "  \"task_specific_params\": {\n",
       "    \"text-generation\": {\n",
       "      \"do_sample\": true,\n",
       "      \"max_length\": 50\n",
       "    }\n",
       "  },\n",
       "  \"transformers_version\": \"4.29.2\",\n",
       "  \"use_cache\": true,\n",
       "  \"vocab_size\": 50257\n",
       "}"
      ]
     },
     "execution_count": 8,
     "metadata": {},
     "output_type": "execute_result"
    }
   ],
   "source": [
    "model.config"
   ]
  },
  {
   "cell_type": "code",
   "execution_count": 9,
   "metadata": {},
   "outputs": [],
   "source": [
    "# sentence_prefix = \"History of Rome dates back to\"\n",
    " \n",
    "# input_ids = tokenizer.encode(\n",
    "#     sentence_prefix,\n",
    "#     add_special_tokens=False,\n",
    "#     return_tensors=\"pt\",\n",
    "# ).to(DEVICE)\n",
    " \n",
    "# output_ids = model.generate(\n",
    "#     input_ids=input_ids,\n",
    "#     do_sample=True,\n",
    "#     max_length=50,  # desired output sentence length\n",
    "#     pad_token_id=model.config.eos_token_id,\n",
    "# )[0].tolist()\n",
    " \n",
    "# generated_text = tokenizer.decode(\n",
    "#     output_ids,\n",
    "#     clean_up_tokenization_spaces=True)\n",
    " \n",
    "# print(generated_text)\n"
   ]
  },
  {
   "cell_type": "code",
   "execution_count": null,
   "metadata": {},
   "outputs": [
    {
     "name": "stderr",
     "output_type": "stream",
     "text": [
      "training:   0%|          | 0/100000 [00:00<?, ?it/s]"
     ]
    },
    {
     "name": "stdout",
     "output_type": "stream",
     "text": [
      "tensor([0.5000, 0.5000, 0.5000, 0.5000, 0.5000, 0.5000, 0.5000, 0.5000, 0.5000,\n",
      "        0.5000, 0.5000, 0.5000], device='cuda:0', grad_fn=<SigmoidBackward0>)\n",
      "tensor([0.5000, 0.5000, 0.5000, 0.5000, 0.5000, 0.5000, 0.5000, 0.5000, 0.5000,\n",
      "        0.5000, 0.5000, 0.5000], device='cuda:0', grad_fn=<SigmoidBackward0>)\n",
      "tensor([0.5000, 0.5000, 0.5000, 0.5000, 0.5000, 0.5000, 0.5000, 0.5000, 0.5000,\n",
      "        0.5000, 0.5000, 0.5000], device='cuda:0', grad_fn=<SigmoidBackward0>)\n",
      "tensor([0.5000, 0.5000, 0.5000, 0.5000, 0.5000, 0.5000, 0.5000, 0.5000, 0.5000,\n",
      "        0.5000, 0.5000, 0.5000], device='cuda:0', grad_fn=<SigmoidBackward0>)\n",
      "training loss: 3.4777318954467775\n",
      "valid loss: 3.087804937362671\n",
      "tensor([0.5498, 0.5498, 0.5498, 0.5498, 0.5498, 0.5498, 0.5498, 0.5498, 0.5498,\n",
      "        0.5498, 0.5498, 0.4502], device='cuda:0', grad_fn=<SigmoidBackward0>)\n",
      "tensor([0.5498, 0.5498, 0.5498, 0.5498, 0.5498, 0.5498, 0.5498, 0.5498, 0.5498,\n",
      "        0.5498, 0.5498, 0.4502], device='cuda:0', grad_fn=<SigmoidBackward0>)\n",
      "tensor([0.5498, 0.5498, 0.5498, 0.5498, 0.5498, 0.5498, 0.5498, 0.5498, 0.5498,\n",
      "        0.5498, 0.5498, 0.4502], device='cuda:0', grad_fn=<SigmoidBackward0>)\n",
      "tensor([0.5498, 0.5498, 0.5498, 0.5498, 0.5498, 0.5498, 0.5498, 0.5498, 0.5498,\n",
      "        0.5498, 0.5498, 0.4502], device='cuda:0', grad_fn=<SigmoidBackward0>)\n"
     ]
    },
    {
     "name": "stderr",
     "output_type": "stream",
     "text": [
      "training:   0%|          | 2/100000 [00:10<143:30:37,  5.17s/it]"
     ]
    },
    {
     "name": "stdout",
     "output_type": "stream",
     "text": [
      "training loss: 3.5264980316162107\n",
      "tensor([0.5987, 0.5983, 0.5841, 0.5987, 0.5981, 0.5984, 0.5988, 0.5920, 0.5388,\n",
      "        0.5856, 0.5972, 0.4047], device='cuda:0', grad_fn=<SigmoidBackward0>)\n",
      "tensor([0.5987, 0.5983, 0.5841, 0.5987, 0.5981, 0.5984, 0.5988, 0.5920, 0.5388,\n",
      "        0.5856, 0.5972, 0.4047], device='cuda:0', grad_fn=<SigmoidBackward0>)\n",
      "tensor([0.5987, 0.5983, 0.5841, 0.5987, 0.5981, 0.5984, 0.5988, 0.5920, 0.5388,\n",
      "        0.5856, 0.5972, 0.4047], device='cuda:0', grad_fn=<SigmoidBackward0>)\n",
      "tensor([0.5987, 0.5983, 0.5841, 0.5987, 0.5981, 0.5984, 0.5988, 0.5920, 0.5388,\n",
      "        0.5856, 0.5972, 0.4047], device='cuda:0', grad_fn=<SigmoidBackward0>)\n",
      "training loss: 3.543728399276733\n",
      "tensor([0.6432, 0.6422, 0.6228, 0.6442, 0.6449, 0.6450, 0.6455, 0.6316, 0.5388,\n",
      "        0.6067, 0.6332, 0.3609], device='cuda:0', grad_fn=<SigmoidBackward0>)\n",
      "tensor([0.6432, 0.6422, 0.6228, 0.6442, 0.6449, 0.6450, 0.6455, 0.6316, 0.5388,\n",
      "        0.6067, 0.6332, 0.3609], device='cuda:0', grad_fn=<SigmoidBackward0>)\n",
      "tensor([0.6432, 0.6422, 0.6228, 0.6442, 0.6449, 0.6450, 0.6455, 0.6316, 0.5388,\n",
      "        0.6067, 0.6332, 0.3609], device='cuda:0', grad_fn=<SigmoidBackward0>)\n",
      "tensor([0.6432, 0.6422, 0.6228, 0.6442, 0.6449, 0.6450, 0.6455, 0.6316, 0.5388,\n",
      "        0.6067, 0.6332, 0.3609], device='cuda:0', grad_fn=<SigmoidBackward0>)\n",
      "training loss: 3.639289569854736\n",
      "tensor([0.6858, 0.6836, 0.6545, 0.6870, 0.6892, 0.6892, 0.6874, 0.6547, 0.5543,\n",
      "        0.6207, 0.6460, 0.3273], device='cuda:0', grad_fn=<SigmoidBackward0>)\n",
      "tensor([0.6858, 0.6836, 0.6545, 0.6870, 0.6892, 0.6892, 0.6874, 0.6547, 0.5543,\n",
      "        0.6207, 0.6460, 0.3273], device='cuda:0', grad_fn=<SigmoidBackward0>)\n",
      "tensor([0.6858, 0.6836, 0.6545, 0.6870, 0.6892, 0.6892, 0.6874, 0.6547, 0.5543,\n",
      "        0.6207, 0.6460, 0.3273], device='cuda:0', grad_fn=<SigmoidBackward0>)\n",
      "tensor([0.6858, 0.6836, 0.6545, 0.6870, 0.6892, 0.6892, 0.6874, 0.6547, 0.5543,\n",
      "        0.6207, 0.6460, 0.3273], device='cuda:0', grad_fn=<SigmoidBackward0>)\n"
     ]
    },
    {
     "name": "stderr",
     "output_type": "stream",
     "text": [
      "training:   0%|          | 5/100000 [00:23<130:30:06,  4.70s/it]"
     ]
    },
    {
     "name": "stdout",
     "output_type": "stream",
     "text": [
      "training loss: 3.60932879447937\n",
      "tensor([0.7235, 0.7200, 0.6861, 0.7266, 0.7305, 0.7284, 0.7253, 0.6789, 0.5691,\n",
      "        0.6330, 0.6590, 0.3035], device='cuda:0', grad_fn=<SigmoidBackward0>)\n",
      "tensor([0.7235, 0.7200, 0.6861, 0.7266, 0.7305, 0.7284, 0.7253, 0.6789, 0.5691,\n",
      "        0.6330, 0.6590, 0.3035], device='cuda:0', grad_fn=<SigmoidBackward0>)\n",
      "tensor([0.7235, 0.7200, 0.6861, 0.7266, 0.7305, 0.7284, 0.7253, 0.6789, 0.5691,\n",
      "        0.6330, 0.6590, 0.3035], device='cuda:0', grad_fn=<SigmoidBackward0>)\n",
      "tensor([0.7235, 0.7200, 0.6861, 0.7266, 0.7305, 0.7284, 0.7253, 0.6789, 0.5691,\n",
      "        0.6330, 0.6590, 0.3035], device='cuda:0', grad_fn=<SigmoidBackward0>)\n",
      "training loss: 3.499234199523926\n",
      "tensor([0.7556, 0.7538, 0.7187, 0.7621, 0.7672, 0.7630, 0.7602, 0.6961, 0.5951,\n",
      "        0.6452, 0.6649, 0.2806], device='cuda:0', grad_fn=<SigmoidBackward0>)\n",
      "tensor([0.7556, 0.7538, 0.7187, 0.7621, 0.7672, 0.7630, 0.7602, 0.6961, 0.5951,\n",
      "        0.6452, 0.6649, 0.2806], device='cuda:0', grad_fn=<SigmoidBackward0>)\n",
      "tensor([0.7556, 0.7538, 0.7187, 0.7621, 0.7672, 0.7630, 0.7602, 0.6961, 0.5951,\n",
      "        0.6452, 0.6649, 0.2806], device='cuda:0', grad_fn=<SigmoidBackward0>)\n",
      "tensor([0.7556, 0.7538, 0.7187, 0.7621, 0.7672, 0.7630, 0.7602, 0.6961, 0.5951,\n",
      "        0.6452, 0.6649, 0.2806], device='cuda:0', grad_fn=<SigmoidBackward0>)\n",
      "training loss: 3.5514418125152587\n"
     ]
    }
   ],
   "source": [
    "# training\n",
    "\n",
    "for i in tqdm.tqdm(range(NUM_BATCHES), mininterval = 10., desc = 'training'):\n",
    "    model.train()\n",
    "\n",
    "    data = next(train_loader)\n",
    "\n",
    "    train_loss = 0.\n",
    "    seq = data\n",
    "\n",
    "    with model.knn_memories_context(batch_size = BATCH_SIZE, num_heads=12) as knn_memories:\n",
    "\n",
    "        for seq_segment in seq.chunk(SEGMENTS, dim = -1):\n",
    "            result = model(\n",
    "                input_ids = seq_segment,\n",
    "                labels = seq_segment,\n",
    "                knn_memories = knn_memories\n",
    "            )\n",
    "\n",
    "            loss = result.loss\n",
    "\n",
    "            train_loss += loss.item() / SEGMENTS\n",
    "            (loss / SEGMENTS).backward()\n",
    "\n",
    "    #         output_ids = model.generate(\n",
    "    #             input_ids=seq_segment,\n",
    "    #             do_sample=True,\n",
    "    #             max_length=20,  # desired output sentence length\n",
    "    #             pad_token_id=model.config.eos_token_id,\n",
    "    #         )[0].tolist()\n",
    "\n",
    "    #         generated_text = tokenizer.decode(\n",
    "    #             output_ids,\n",
    "    #             clean_up_tokenization_spaces=True)\n",
    "\n",
    "    #         print(generated_text)\n",
    "\n",
    "\n",
    "        print(f'training loss: {train_loss}')\n",
    "        torch.nn.utils.clip_grad_norm_(model.parameters(), MAX_GRAD_CLIP_NORM)\n",
    "        optim.step()\n",
    "        optim.zero_grad()\n",
    "\n",
    "    if not (i % VALIDATE_EVERY):\n",
    "        model.eval()\n",
    "\n",
    "        valid_data = next(valid_loader)\n",
    "        valid_loss = 0.\n",
    "\n",
    "        with torch.no_grad():\n",
    "            seq = data\n",
    "            \n",
    "            for seq_segment in seq.chunk(SEGMENTS, dim = -1):\n",
    "                \n",
    "                result = model(\n",
    "                    input_ids = seq_segment,\n",
    "                    labels = seq_segment,\n",
    "                )\n",
    "\n",
    "                loss = result.loss\n",
    "\n",
    "                valid_loss += loss.item() / SEGMENTS\n",
    "\n",
    "        print(f'valid loss: {valid_loss}')\n"
   ]
  },
  {
   "cell_type": "code",
   "execution_count": 1,
   "metadata": {},
   "outputs": [],
   "source": [
    "optimal_weights=[0.2981, 0.9796, 0.9995, 0.9996, 0.9999, 0.6157, 0.9999, 0.9999, 0.9651,0.6707, 0.6466, 0.9562]"
   ]
  },
  {
   "cell_type": "code",
   "execution_count": null,
   "metadata": {},
   "outputs": [],
   "source": []
  }
 ],
 "metadata": {
  "kernelspec": {
   "display_name": "Python 3",
   "language": "python",
   "name": "python3"
  },
  "language_info": {
   "codemirror_mode": {
    "name": "ipython",
    "version": 3
   },
   "file_extension": ".py",
   "mimetype": "text/x-python",
   "name": "python",
   "nbconvert_exporter": "python",
   "pygments_lexer": "ipython3",
   "version": "3.8.10"
  }
 },
 "nbformat": 4,
 "nbformat_minor": 2
}
